{
  "nbformat": 4,
  "nbformat_minor": 0,
  "metadata": {
    "colab": {
      "name": "BS_PDE_Solver_Explicit.ipynb",
      "provenance": [],
      "collapsed_sections": []
    },
    "kernelspec": {
      "name": "python3",
      "display_name": "Python 3"
    },
    "language_info": {
      "name": "python"
    }
  },
  "cells": [
    {
      "cell_type": "code",
      "metadata": {
        "id": "eIxWBfNfGJCh"
      },
      "source": [
        "import numpy as np\n",
        "import math\n",
        "import matplotlib.pyplot as plt\n",
        "from mpl_toolkits.mplot3d import Axes3D\n",
        "from matplotlib import cm\n",
        "import sympy as sy\n",
        "from sympy.stats import Normal, cdf\n",
        "import scipy.stats as si\n",
        "from sympy import init_printing\n",
        "init_printing()"
      ],
      "execution_count": 425,
      "outputs": []
    },
    {
      "cell_type": "markdown",
      "metadata": {
        "id": "FtCsvHOoMF8x"
      },
      "source": [
        "The first part will simply be comparing the explicit method with the exact Black Scholes solutions."
      ]
    },
    {
      "cell_type": "code",
      "metadata": {
        "id": "uokb0rTJdQiw"
      },
      "source": [
        "''' Function for computing Call option price via Black Scholes exact method'''\n",
        "def euro_vanilla_call(S, K, T, r, sig):\n",
        "    \n",
        "    #S: spot price\n",
        "    #K: strike price\n",
        "    #T: time to maturity\n",
        "    #r: interest rate\n",
        "    #sig: volatility of underlying asset\n",
        "    \n",
        "    d1 = (np.log(S / K) + (r + 0.5 * sig ** 2) * T) / (sig * np.sqrt(T))\n",
        "    d2 = d1 - (sig*math.sqrt(T))\n",
        "    \n",
        "    call = (S * si.norm.cdf(d1, 0.0, 1.0) - K * np.exp(-r * T) * si.norm.cdf(d2, 0.0, 1.0))\n",
        "    \n",
        "    return call\n",
        "   "
      ],
      "execution_count": 426,
      "outputs": []
    },
    {
      "cell_type": "code",
      "metadata": {
        "id": "BNrXL6amGUvY"
      },
      "source": [
        "'''Initial values '''\n",
        "Smax = 10       ### Max stock price (right boundary Value)\n",
        "T = 1          ### Time until expiry in years\n",
        "sigma = 0.1     ### Volatility of uderlying stock\n",
        "r = 0.05        ### Risk-Free rate\n",
        "K = 4          ### Strike Price"
      ],
      "execution_count": 427,
      "outputs": []
    },
    {
      "cell_type": "markdown",
      "metadata": {
        "id": "8cYr0ELYNCxg"
      },
      "source": [
        "Function for FDM."
      ]
    },
    {
      "cell_type": "code",
      "metadata": {
        "id": "Zoluk_v3-Q1e"
      },
      "source": [
        "def finiteDifference_Option_Price(Smax, K, T, sigma, r, ds=1, alpha=0.1):      ### ds = Change in price - interval size\n",
        "    dt = alpha*ds        ### Change in time - interval size\n",
        "    N = int(Smax/ds)     ### Number of steps on the price axis\n",
        "    J = int(T/dt)        ### Number of steps on the time axis\n",
        "    \n",
        "    ## Create Matrix of Zeros to store values\n",
        "    V = np.zeros((J+1, N+1))    \n",
        "  \n",
        "    ### Boundary for time = 0 (Expiry)\n",
        "    for n in range(0, N+1):  \n",
        "        V[0, n] = max((n*ds)-K, 0)\n",
        "\n",
        "    ### Boundary for Max stock price\n",
        "    for j in range(1, J+1):\n",
        "        V[j, N] = Smax - (K*math.exp(-(j*dt)*r)) \n",
        "\n",
        "    ### Loops for Finite Difference method\n",
        "    for j in range(0, J):\n",
        "        for n in range(1, N):\n",
        "            a = 1-(dt*r)-((sigma**2)*((n*ds)**2)*dt/(ds**2))-(r*n*dt)\n",
        "            b = ((sigma**2)*((n*ds)**2)*dt/(2*(ds**2))) + (r*n*dt)\n",
        "            d = ((sigma**2)*((n*ds)**2)*dt/(2*ds))\n",
        "            V[j+1, n] = (V[j, n]*a) + (V[j, n+1]*b) + (V[j, n-1]*d)\n",
        "\n",
        "    return V\n",
        "\n",
        "        \n",
        "      \n",
        "  \n"
      ],
      "execution_count": 429,
      "outputs": []
    },
    {
      "cell_type": "markdown",
      "metadata": {
        "id": "vzydhlbFNGMB"
      },
      "source": [
        "Function for exact Black Scholes."
      ]
    },
    {
      "cell_type": "code",
      "metadata": {
        "id": "ujkUPnPqILTf"
      },
      "source": [
        "def blackScholes_OptionPrice_Matrix(Smax, K, T, sigma, r, ds=1, alpha=0.1):\n",
        "    ### ds = Change in price - interval size\n",
        "    dt = alpha*ds        ### Change in time - interval size\n",
        "    N = int(Smax/ds)     ### Number of steps on the price axis\n",
        "    J = int(T/dt)        ### Number of steps on the time axis\n",
        "    \n",
        "    ### Create matrix to store exact solutions from black scholes\n",
        "    B = np.zeros((J+1, N+1))\n",
        "\n",
        "    ### Boundary for time = 0 (Expiry)\n",
        "    for n in range(0, N+1): \n",
        "        B[0, n] = max((n*ds)-K, 0)\n",
        "\n",
        "    ### Boundary for Max stock price\n",
        "    for j in range(1, J+1):\n",
        "        B[j, N] = Smax - (K*math.exp(-(j*dt)*r)) \n",
        "\n",
        "    ### Calculate option price for entire grid using Black Scholes exact method\n",
        "    for j in range(1, J+1):\n",
        "        for n in range(1, N+1):\n",
        "            B[j, n] = euro_vanilla_call(n*ds, K, j*dt, r, sigma)\n",
        "\n",
        "    return B\n",
        "\n",
        "\n"
      ],
      "execution_count": 430,
      "outputs": []
    },
    {
      "cell_type": "markdown",
      "metadata": {
        "id": "XSAgT9T7niw9"
      },
      "source": [
        "FDM using a 10x10 mesh."
      ]
    },
    {
      "cell_type": "code",
      "metadata": {
        "id": "0_Ae-HMkH2Qo"
      },
      "source": [
        "V = finiteDifference_Option_Price(Smax, K, T, sigma, r)"
      ],
      "execution_count": 431,
      "outputs": []
    },
    {
      "cell_type": "code",
      "metadata": {
        "id": "EBN22Ag48xrz"
      },
      "source": [
        "B = blackScholes_OptionPrice_Matrix(Smax, K, T, sigma, r)"
      ],
      "execution_count": 432,
      "outputs": []
    },
    {
      "cell_type": "code",
      "metadata": {
        "colab": {
          "base_uri": "https://localhost:8080/"
        },
        "id": "v0jMSDTKJxLd",
        "outputId": "39b062d4-6988-40c1-f953-724e1730adc1"
      },
      "source": [
        "x_d = np.arange(0, N+1, 1)  ## Need to take shapes from matrix V\n",
        "y_d = np.arange(0, 1, 1/(J+1))\n",
        "x,y = np.meshgrid(x_d, y_d)\n",
        "print(J)\n",
        "print(N)"
      ],
      "execution_count": 433,
      "outputs": [
        {
          "output_type": "stream",
          "text": [
            "10\n",
            "10\n"
          ],
          "name": "stdout"
        }
      ]
    },
    {
      "cell_type": "code",
      "metadata": {
        "colab": {
          "base_uri": "https://localhost:8080/",
          "height": 575
        },
        "id": "qlnKX6X8J27A",
        "outputId": "d40286eb-59af-4c3a-cbf4-6e15a5cac3a1"
      },
      "source": [
        "plt.figure(figsize=(10,10))\n",
        "ax = plt.subplot(111, projection='3d')\n",
        "plt.xlabel(\"Spot Price\")\n",
        "plt.ylabel(\"Time Until Expiry\")\n",
        "ax.set_zlim(0, 8)\n",
        "ax.plot_surface(x,y,V, cmap=cm.coolwarm)\n",
        "plt.show()"
      ],
      "execution_count": 352,
      "outputs": [
        {
          "output_type": "display_data",
          "data": {
            "image/png": "[encoded data removed]",
            "text/plain": [
              "<Figure size 720x720 with 1 Axes>"
            ]
          },
          "metadata": {
            "needs_background": "light"
          }
        }
      ]
    },
    {
      "cell_type": "code",
      "metadata": {
        "id": "5n7cFQxEJ3Bh"
      },
      "source": [
        "Error_Mat = ((V-B)**2)**(0.5)\n",
        "#print(Error_Mat)"
      ],
      "execution_count": 434,
      "outputs": []
    },
    {
      "cell_type": "code",
      "metadata": {
        "colab": {
          "base_uri": "https://localhost:8080/"
        },
        "id": "B9n2bu2cKVhJ",
        "outputId": "c6426bf5-9581-412f-9e5d-a68bd418d42f"
      },
      "source": [
        "print(\"Maximum Error: \", np.amax(Error_Mat))\n",
        "print(\"Average Error: \", np.mean(Error_Mat))"
      ],
      "execution_count": 435,
      "outputs": [
        {
          "output_type": "stream",
          "text": [
            "Maximum Error:  0.03748581645716227\n",
            "Average Error:  0.0032941096520760957\n"
          ],
          "name": "stdout"
        }
      ]
    },
    {
      "cell_type": "markdown",
      "metadata": {
        "id": "tAmxzTFnnvnz"
      },
      "source": [
        "FDM using 100x100 mesh."
      ]
    },
    {
      "cell_type": "code",
      "metadata": {
        "id": "rTVlmU-Gn0Ko"
      },
      "source": [
        "V100 = finiteDifference_Option_Price(Smax, K, T, sigma, r, ds=0.1, alpha=1)"
      ],
      "execution_count": 470,
      "outputs": []
    },
    {
      "cell_type": "code",
      "metadata": {
        "id": "KulLFQ3Ln0aM"
      },
      "source": [
        "B100 = blackScholes_OptionPrice_Matrix(Smax, K, T, sigma, r, ds=0.1, alpha=1)"
      ],
      "execution_count": 471,
      "outputs": []
    },
    {
      "cell_type": "code",
      "metadata": {
        "id": "lAWfWDmHn0in"
      },
      "source": [
        "Error_Mat = ((V100-B100)**2)**(0.5)\n",
        "#print(Error_Mat)"
      ],
      "execution_count": 472,
      "outputs": []
    },
    {
      "cell_type": "code",
      "metadata": {
        "colab": {
          "base_uri": "https://localhost:8080/"
        },
        "id": "OJuQYzpjotVj",
        "outputId": "d7dc18c5-84c0-4801-e1d4-84bc764bffbf"
      },
      "source": [
        "print(V100)"
      ],
      "execution_count": 473,
      "outputs": [
        {
          "output_type": "stream",
          "text": [
            "[[ 0.00000000e+00  0.00000000e+00  0.00000000e+00 ...  5.80000000e+00\n",
            "   5.90000000e+00  6.00000000e+00]\n",
            " [ 0.00000000e+00  0.00000000e+00  0.00000000e+00 ... -1.88142600e+01\n",
            "  -1.96606100e+01  6.01995008e+00]\n",
            " [ 0.00000000e+00  0.00000000e+00  0.00000000e+00 ...  5.85078791e+01\n",
            "   2.06124046e+02  6.03980067e+00]\n",
            " ...\n",
            " [ 0.00000000e+00  0.00000000e+00  0.00000000e+00 ... -4.56961892e+08\n",
            "   1.80232354e+08  6.15684224e+00]\n",
            " [ 0.00000000e+00  0.00000000e+00  0.00000000e+00 ...  5.36719398e+09\n",
            "  -1.90027527e+09  6.17601007e+00]\n",
            " [ 0.00000000e+00  0.00000000e+00  0.00000000e+00 ... -6.23832256e+10\n",
            "   2.03046537e+10  6.19508230e+00]]\n"
          ],
          "name": "stdout"
        }
      ]
    },
    {
      "cell_type": "code",
      "metadata": {
        "colab": {
          "base_uri": "https://localhost:8080/"
        },
        "id": "JsScjoySo43s",
        "outputId": "838b2281-b864-482e-f5f7-0f36fff669f2"
      },
      "source": [
        "print(B100)"
      ],
      "execution_count": 474,
      "outputs": [
        {
          "output_type": "stream",
          "text": [
            "[[0.00000000e+000 0.00000000e+000 0.00000000e+000 ... 5.80000000e+000\n",
            "  5.90000000e+000 6.00000000e+000]\n",
            " [0.00000000e+000 0.00000000e+000 0.00000000e+000 ... 5.81995008e+000\n",
            "  5.91995008e+000 6.01995008e+000]\n",
            " [0.00000000e+000 0.00000000e+000 0.00000000e+000 ... 5.83980067e+000\n",
            "  5.93980067e+000 6.03980067e+000]\n",
            " ...\n",
            " [0.00000000e+000 0.00000000e+000 2.09447433e-242 ... 5.95684224e+000\n",
            "  6.05684224e+000 6.15684224e+000]\n",
            " [0.00000000e+000 0.00000000e+000 2.87598240e-215 ... 5.97601007e+000\n",
            "  6.07601007e+000 6.17601007e+000]\n",
            " [0.00000000e+000 5.41162615e-293 1.49678658e-193 ... 5.99508230e+000\n",
            "  6.09508230e+000 6.19508230e+000]]\n"
          ],
          "name": "stdout"
        }
      ]
    },
    {
      "cell_type": "code",
      "metadata": {
        "colab": {
          "base_uri": "https://localhost:8080/"
        },
        "id": "t5_yrgZwn0l7",
        "outputId": "9a4ce86b-d44c-45b4-f7ef-1093befb08e3"
      },
      "source": [
        "print(\"Maximum Error: \", np.amax(Error_Mat))\n",
        "print(\"Average Error: \", np.mean(Error_Mat))"
      ],
      "execution_count": 475,
      "outputs": [
        {
          "output_type": "stream",
          "text": [
            "Maximum Error:  95267190491.17964\n",
            "Average Error:  336206786.0318278\n"
          ],
          "name": "stdout"
        }
      ]
    },
    {
      "cell_type": "markdown",
      "metadata": {
        "id": "-tgNRiksMpWP"
      },
      "source": [
        "I will now adjust the alpha values and therefore the ratio of S time steps to T time steps to look at differences in stability and try to find the optimal S/T time step ratio."
      ]
    },
    {
      "cell_type": "markdown",
      "metadata": {
        "id": "b8XBp02kNO1x"
      },
      "source": [
        "I first need a function so I can loop through for different alpha values."
      ]
    },
    {
      "cell_type": "code",
      "metadata": {
        "id": "Yc1iP0PvL3_8"
      },
      "source": [
        "from sympy.stats.crv_types import Dagum\n",
        "def alpha_test(da, size): \n",
        "    \n",
        "    ### Create array for storage of error values for each alpha value\n",
        "    alphaError_mat_size = size\n",
        "    alphaError_Vals = np.zeros(alphaError_mat_size)\n",
        "    \n",
        "    ### Loop to cycle through alpha values\n",
        "    for i in range(1, size+1):\n",
        "        ### Alpha value\n",
        "        alpha = i*da\n",
        "        \n",
        "        ### Array storing option values using FDM\n",
        "        V = finiteDifference_Option_Price(Smax, K, T, sigma, r, alpha=alpha)\n",
        "\n",
        "        ### Array of Black Scholes exact values\n",
        "        B = blackScholes_OptionPrice_Matrix(Smax, K, T, sigma, r, alpha=alpha)\n",
        "\n",
        "        ### Error matrix\n",
        "        Error_Mat = ((V-B)**2)**(0.5)\n",
        "\n",
        "        #print(np.mean(Error_Mat))\n",
        "        #print(i)\n",
        "\n",
        "        ### Storing average error values in array\n",
        "        alphaError_Vals[i-1] = np.mean(Error_Mat)\n",
        "\n",
        "    return alphaError_Vals\n",
        "\n"
      ],
      "execution_count": 436,
      "outputs": []
    },
    {
      "cell_type": "code",
      "metadata": {
        "id": "uo_ye4qvS3kQ"
      },
      "source": [
        "Error_Values = alpha_test(0.01, 100)"
      ],
      "execution_count": 437,
      "outputs": []
    },
    {
      "cell_type": "code",
      "metadata": {
        "colab": {
          "base_uri": "https://localhost:8080/"
        },
        "id": "ScUH06d_TYxO",
        "outputId": "2657f34d-5703-40d3-d7cc-2bcc512184bf"
      },
      "source": [
        "print(Error_Values)"
      ],
      "execution_count": 438,
      "outputs": [
        {
          "output_type": "stream",
          "text": [
            "[0.00359138 0.00356028 0.00352408 0.00349559 0.00346251 0.00341049\n",
            " 0.00338594 0.00334191 0.00332288 0.00329411 0.00325484 0.0032041\n",
            " 0.0031405  0.00314714 0.00306437 0.00306711 0.00296127 0.00296018\n",
            " 0.00295904 0.00295812 0.00281427 0.00280927 0.00280421 0.00279923\n",
            " 0.00279448 0.00259487 0.00258623 0.00257738 0.00256843 0.00255945\n",
            " 0.00255051 0.00254168 0.002533   0.00223485 0.00222307 0.00221101\n",
            " 0.00219873 0.00218627 0.00217366 0.00216093 0.00214811 0.00213524\n",
            " 0.00212233 0.00210942 0.00209651 0.00208364 0.00207082 0.00205806\n",
            " 0.00204539 0.00203282 0.00152662 0.00151312 0.00149941 0.0014855\n",
            " 0.00147139 0.00145711 0.00144266 0.00142805 0.0014133  0.00139842\n",
            " 0.00138341 0.0013683  0.00135308 0.00133777 0.00132237 0.0013069\n",
            " 0.00129137 0.00127578 0.00126014 0.00124446 0.00122874 0.00121301\n",
            " 0.00119725 0.00118149 0.00116572 0.00114996 0.00113421 0.00111848\n",
            " 0.00110277 0.00108709 0.00107145 0.00105585 0.00104031 0.00102482\n",
            " 0.00100939 0.00099402 0.00097873 0.00096352 0.00094839 0.00093335\n",
            " 0.00096023 0.00101812 0.00107648 0.00113531 0.00119461 0.00125437\n",
            " 0.0013146  0.0013753  0.00143646 0.00149808]\n"
          ],
          "name": "stdout"
        }
      ]
    },
    {
      "cell_type": "code",
      "metadata": {
        "colab": {
          "base_uri": "https://localhost:8080/"
        },
        "id": "_qsWt27ehCuv",
        "outputId": "7d27ec58-1feb-419e-f968-e0ab52f7d9ab"
      },
      "source": [
        "### The minimum error \n",
        "min_error = np.min(Error_Values)\n",
        "print(\"Minimum error value: \", min_error)"
      ],
      "execution_count": 439,
      "outputs": [
        {
          "output_type": "stream",
          "text": [
            "Minimum error value:  0.0009333462757784868\n"
          ],
          "name": "stdout"
        }
      ]
    },
    {
      "cell_type": "code",
      "metadata": {
        "colab": {
          "base_uri": "https://localhost:8080/"
        },
        "id": "A5og8hVrhkLh",
        "outputId": "3cf3a014-b6c0-4302-e4a0-2fd9e37a488f"
      },
      "source": [
        "### Index of minimum error so we can establish the corresponding alpha\n",
        "alpha_index = np.where(Error_Values == min_error)\n",
        "print(\"Index for optimal alpha value: \", alpha_index[0][0])\n"
      ],
      "execution_count": 440,
      "outputs": [
        {
          "output_type": "stream",
          "text": [
            "Index for optimal alpha value:  89\n"
          ],
          "name": "stdout"
        }
      ]
    },
    {
      "cell_type": "code",
      "metadata": {
        "colab": {
          "base_uri": "https://localhost:8080/"
        },
        "id": "Vx2YivGTjaq5",
        "outputId": "2b2cb3b7-b494-45fd-b4c1-a515b26ac01d"
      },
      "source": [
        "### Optimal Alpha Value\n",
        "Optimal_alpha = (alpha_index[0][0]-1)*0.01\n",
        "print(\"Optimal Alpha: \", Optimal_alpha)"
      ],
      "execution_count": 452,
      "outputs": [
        {
          "output_type": "stream",
          "text": [
            "Optimal Alpha:  0.88\n"
          ],
          "name": "stdout"
        }
      ]
    },
    {
      "cell_type": "markdown",
      "metadata": {
        "id": "0kK9Vn6Ljr27"
      },
      "source": [
        "Now we want to try another FDM with a smaller difference using the alpha we have found."
      ]
    },
    {
      "cell_type": "code",
      "metadata": {
        "id": "JT39GqF7j1kf"
      },
      "source": [
        "V1 = finiteDifference_Option_Price(Smax, K, T, sigma, r, ds=1, alpha=Optimal_alpha)"
      ],
      "execution_count": 458,
      "outputs": []
    },
    {
      "cell_type": "code",
      "metadata": {
        "colab": {
          "base_uri": "https://localhost:8080/"
        },
        "id": "Dn88V6yYlZIQ",
        "outputId": "9b06dbd8-d7db-4141-f7e4-00ba0a9c28c0"
      },
      "source": [
        "print(np.shape(V1))\n",
        "print(V1)"
      ],
      "execution_count": 459,
      "outputs": [
        {
          "output_type": "stream",
          "text": [
            "(2, 11)\n",
            "[[0.         0.         0.         0.         0.         1.\n",
            "  2.         3.         4.         5.         6.        ]\n",
            " [0.         0.         0.         0.         0.2464     1.176\n",
            "  2.176      3.176      4.176      5.176      6.17218417]]\n"
          ],
          "name": "stdout"
        }
      ]
    },
    {
      "cell_type": "code",
      "metadata": {
        "id": "TunsdB-WkErC"
      },
      "source": [
        "B1 = blackScholes_OptionPrice_Matrix(Smax, K, T, sigma, r, ds=1, alpha=Optimal_alpha)"
      ],
      "execution_count": 461,
      "outputs": []
    },
    {
      "cell_type": "code",
      "metadata": {
        "id": "M_dUndSckNnl"
      },
      "source": [
        "Error_Mat = ((V1-B1)**2)**(0.5)"
      ],
      "execution_count": 462,
      "outputs": []
    },
    {
      "cell_type": "code",
      "metadata": {
        "colab": {
          "base_uri": "https://localhost:8080/"
        },
        "id": "tHPerKxvlLK8",
        "outputId": "1a805600-aaef-428d-8837-cf899060c54e"
      },
      "source": [
        "print(\"Maximum Error: \", np.amax(Error_Mat))\n",
        "print(\"Average Error: \", np.mean(Error_Mat))"
      ],
      "execution_count": 463,
      "outputs": [
        {
          "output_type": "stream",
          "text": [
            "Maximum Error:  0.0038158298921864287\n",
            "Average Error:  0.0009635186288146312\n"
          ],
          "name": "stdout"
        }
      ]
    },
    {
      "cell_type": "code",
      "metadata": {
        "id": "K80iEl5SlO0E"
      },
      "source": [
        ""
      ],
      "execution_count": null,
      "outputs": []
    }
  ]
}