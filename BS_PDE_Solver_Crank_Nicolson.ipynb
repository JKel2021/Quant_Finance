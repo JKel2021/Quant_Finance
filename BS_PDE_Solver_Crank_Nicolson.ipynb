{
  "cells": [
    {
      "cell_type": "code",
      "execution_count": 2,
      "metadata": {
        "id": "eIxWBfNfGJCh"
      },
      "outputs": [],
      "source": [
        "import numpy as np\n",
        "import math\n",
        "import matplotlib.pyplot as plt\n",
        "from mpl_toolkits.mplot3d import Axes3D\n",
        "from matplotlib import cm\n",
        "import sympy as sy\n",
        "from sympy.stats import Normal, cdf\n",
        "import scipy.stats as si\n",
        "from sympy import init_printing\n",
        "init_printing()"
      ]
    },
    {
      "cell_type": "markdown",
      "metadata": {
        "id": "FtCsvHOoMF8x"
      },
      "source": [
        "The first part will simply be comparing the explicit method with the exact Black Scholes solutions."
      ]
    },
    {
      "cell_type": "code",
      "execution_count": 3,
      "metadata": {
        "id": "uokb0rTJdQiw"
      },
      "outputs": [],
      "source": [
        "''' Function for computing Call option price via Black Scholes exact method'''\n",
        "def euro_call(S, K, T, r, sig):\n",
        "    \n",
        "    #S: spot price\n",
        "    #K: strike price\n",
        "    #T: time to maturity\n",
        "    #r: interest rate\n",
        "    #sig: volatility of underlying asset\n",
        "    \n",
        "    d1 = (np.log(S / K) + (r + 0.5 * sig ** 2) * T) / (sig * np.sqrt(T))\n",
        "    d2 = d1 - (sig*math.sqrt(T))\n",
        "    \n",
        "    call = (S * si.norm.cdf(d1, 0.0, 1.0) - K * np.exp(-r * T) * si.norm.cdf(d2, 0.0, 1.0))\n",
        "    \n",
        "    return call\n",
        "   "
      ]
    },
    {
      "cell_type": "markdown",
      "metadata": {},
      "source": [
        "Function for exact black-scholes for a European Call."
      ]
    },
    {
      "cell_type": "code",
      "execution_count": 243,
      "metadata": {},
      "outputs": [],
      "source": [
        "def blackScholes_OptionPrice_Matrix(Smax, K, T, sigma, r, Ns, Nt):\n",
        "\n",
        "    dt = T/Nt\n",
        "    ds = Smax/Ns    ### Price step\n",
        "\n",
        "    ## Create Matrix of Zeros to store values\n",
        "    B = np.zeros((Nt+1, Ns+1))\n",
        "\n",
        "    ### Boundary for time = 0 (Expiry)\n",
        "    for n in range(0, Ns+1):\n",
        "        B[0, n] = max((n*ds)-K, 0)\n",
        "\n",
        "    ### Boundary for Max stock price\n",
        "    for j in range(1, Nt+1):\n",
        "        B[j, Ns] = Smax - (K*math.exp(-(j*dt)*r))\n",
        "\n",
        "    ### Calculate option price for entire grid using Black Scholes exact method\n",
        "    for j in range(1, Nt+1):\n",
        "        for n in range(1, Ns+1):\n",
        "            B[j, n] = euro_call(n*ds, K, j*dt, r, sigma)\n",
        "\n",
        "    return B"
      ]
    },
    {
      "cell_type": "markdown",
      "metadata": {},
      "source": [
        "Functions for boundary conditions"
      ]
    },
    {
      "cell_type": "code",
      "execution_count": 40,
      "metadata": {},
      "outputs": [],
      "source": [
        "# time = T  ### expiry\n",
        "def call_value_expiry(n, ds):\n",
        "    price = max((n*ds)-K, 0)\n",
        "    return price\n",
        "\n",
        "# Value at stock price = 0\n",
        "### Not necessary as matrix values will initially be set to zero\n",
        "def call_value_zero():\n",
        "    price =  0\n",
        "    return price\n",
        "\n",
        "# Value at price Smax\n",
        "def call_value_Smax(Smax, K, j, dt, r):\n",
        "    price = Smax - (K*math.exp(-(j*dt)*r))\n",
        "    return price"
      ]
    },
    {
      "cell_type": "markdown",
      "metadata": {
        "id": "8cYr0ELYNCxg"
      },
      "source": [
        "Functions for FDM."
      ]
    },
    {
      "cell_type": "code",
      "execution_count": 183,
      "metadata": {},
      "outputs": [],
      "source": [
        "### Functions for coefficeints within finite difference scheme\n",
        "\n",
        "# First coefficient is simply -r\n",
        "def coeff_1(IR):\n",
        "    coeff = -IR\n",
        "    return coeff\n",
        "\n",
        "# Second coefficient \n",
        "def coeff_2(dt):\n",
        "    coeff = 1/dt\n",
        "    return coeff\n",
        "\n",
        "# Third coefficient\n",
        "def coeff_3(sigma, n):\n",
        "    coeff = ((sigma**2)*(n**2))/4\n",
        "    return coeff\n",
        "\n",
        "# Fourth coefficent\n",
        "def coeff_4(IR, n):\n",
        "    coeff = IR*n/4\n",
        "    return coeff\n"
      ]
    },
    {
      "cell_type": "code",
      "execution_count": 173,
      "metadata": {},
      "outputs": [],
      "source": [
        "## Create Marix which will be used as the mesh of option prices/ surface\n",
        "\n",
        "def matrix_mesh(space_steps, time_steps, delta_s, delta_t):\n",
        "    ## Create Matrix of Zeros to store values\n",
        "    V = np.zeros((time_steps+1, space_steps+1))\n",
        "\n",
        "    ### Boundary for time = 0 (Expiry)\n",
        "    for n in range(0, space_steps+1):\n",
        "        V[0, n] = call_value_expiry(n, delta_s)\n",
        "\n",
        "    ### Boundary for Max stock price\n",
        "    for j in range(1, time_steps+1):\n",
        "        V[j, space_steps] = call_value_Smax(Smax, K, j, delta_t, r)\n",
        "\n",
        "    return V"
      ]
    },
    {
      "cell_type": "code",
      "execution_count": 174,
      "metadata": {},
      "outputs": [],
      "source": [
        "### Initialising matrix for system of equations Ax = b\n",
        "\n",
        "### create Matrix A\n",
        "'''Puts the values from the finite difference scheme into a square matrix which will be used to solve the system of equations.\n",
        "Returns a (n-2)x(n-2) matrix. where n is the number of points along the price axis'''\n",
        "\n",
        "def create_A(size, dt):\n",
        "\n",
        "    # Create matrix\n",
        "    mat_size = (size-2, size-2)\n",
        "    Mat = np.zeros((mat_size))\n",
        "\n",
        "    ## Set top row and bottom row values as these correspond to boundary values for price\n",
        "    # Row 0\n",
        "    Mat[0, 0] = -coeff_2(dt) - 2*coeff_3(sigma=sigma, n=1)\n",
        "    Mat[0, 1] = coeff_3(sigma=sigma, n=2) + coeff_4(r, n=2)\n",
        "\n",
        "    # Row -1\n",
        "    Mat[-1, -2] = coeff_3(sigma=sigma, n=size-3) - coeff_4(r, n=size-3)\n",
        "    Mat[-1, -1] = -coeff_2(dt) - 2*coeff_3(sigma=sigma, n=size-2)\n",
        "\n",
        "    # Initialise values from rows 1 - (n-1)\n",
        "    for i in range(size-4):\n",
        "        Mat[i+1, i] = coeff_3(sigma=sigma, n=i+1) - coeff_4(r, n=i+1)\n",
        "        Mat[i+1, i+1] = -coeff_2(dt) - 2*coeff_3(sigma=sigma, n=i+2)\n",
        "        Mat[i+1, i+2] = coeff_3(sigma=sigma, n=i+3) + coeff_4(r, n=i+3)\n",
        "\n",
        "    return Mat\n",
        "\n"
      ]
    },
    {
      "cell_type": "code",
      "execution_count": 175,
      "metadata": {},
      "outputs": [],
      "source": [
        "### Function to initialise vector b from equation Ax = b\n",
        "\n",
        "'''Creates a (n-2) x 1 vector for the system of equations'''\n",
        "\n",
        "def create_b(price_mat, dt, time_step):\n",
        "\n",
        "    # Create vector\n",
        "    size = price_mat.shape[0] - 2\n",
        "    #print(\"size: \", size)\n",
        "    vector = np.zeros((size, 1))\n",
        "\n",
        "    ## Set first and last rows as these correspond to boundary values for price\n",
        "    ## option price terms with n-1 will be zero as n=1. \n",
        "    ## Therefore as prices are given by n*ds we have an option price when a stock price is zero\n",
        "    ## which is eqaul to zero itself.\n",
        "\n",
        "    # First row\n",
        "    vector[0] = -price_mat[time_step, 1] * (coeff_1(r) + coeff_2(dt) - 2 * coeff_3(sigma=sigma, n=1)) \\\n",
        "        - price_mat[time_step, 2] * (coeff_3(sigma=sigma, n=2) + coeff_4(IR=r, n=2))\n",
        "\n",
        "    # Last Row\n",
        "    vector[-1] = - (price_mat[time_step, -3] * (coeff_3(sigma=sigma, n=size-3) - coeff_4(IR=r, n=size-1))) \\\n",
        "        - (price_mat[time_step, -2] * (coeff_1(r) + coeff_2(dt) - 2 * coeff_3(sigma=sigma, n=size))) \\\n",
        "        - (price_mat[time_step, -1] * (coeff_3(sigma=sigma, n=size+1) + coeff_4(IR=r, n=size+1))) \\\n",
        "        - (price_mat[time_step+1, -1] * (coeff_3(sigma=sigma, n=size+1) + coeff_4(IR=r, n=size+1)))\n",
        "\n",
        "    #print(\"1: \", - (price_mat[time_step, -3] * (coeff_3(sigma=sigma, n=size-1) - coeff_4(IR=r, n=size-1))))\n",
        "    #print(\"Price [0, -3]: \", price_mat[time_step, -3])\n",
        "    #print(\"2: \", - (price_mat[time_step, -2] * (coeff_1 + coeff_2(dt) - 2 * coeff_3(sigma=sigma, n=size))))\n",
        "    #print(\"Price [0, -2]: \", price_mat[time_step, -2])\n",
        "    #print(\"3: \", - (price_mat[time_step, -1] * (coeff_3(sigma=sigma, n=size+1) + coeff_4(IR=r, n=size+1))))\n",
        "    #print(\"Price [0, -1]: \", price_mat[time_step, -1])\n",
        "    #print(\"4: \", - (price_mat[time_step+1, -1] * (coeff_3(sigma=sigma, n=size+1) + coeff_4(IR=r, n=size+1))))\n",
        "    #print(\"Price [1, -1]: \", price_mat[time_step+1, -1])\n",
        "\n",
        "    # Rows 1 - 2nd last\n",
        "    for i in range(size-2):\n",
        "        vector[i+1] = - (price_mat[time_step, i+1] * (coeff_3(sigma=sigma, n=i+1) - coeff_4(IR=r, n=i+1))) \\\n",
        "        - (price_mat[time_step, i+2] * (coeff_1(r) + coeff_2(dt) - 2 * coeff_3(sigma=sigma, n=i+2))) \\\n",
        "        - (price_mat[time_step, i+3] * (coeff_3(sigma=sigma, n=i+3) + coeff_4(IR=r, n=i+3)))\n",
        "\n",
        "    return vector \n",
        "\n",
        "    \n"
      ]
    },
    {
      "cell_type": "code",
      "execution_count": 215,
      "metadata": {},
      "outputs": [],
      "source": [
        "### function to solver system of equations - TDMA (tridiagonal matrix algorithm)\n",
        "### Thomas algorithm\n",
        "### algorith from https://www.quantstart.com/articles/Tridiagonal-Matrix-Solver-via-Thomas-Algorithm/\n",
        "\n",
        "'''This function takes in a matrix (A) and vector (b) and will solve for vector (x) in \n",
        "the system of equations Ax=b.\n",
        "Will return vector x'''\n",
        "\n",
        "def TDMA(matrix, vector):\n",
        "\n",
        "    ## create a new matrix which will be bidiagonal and solved iteratively in reverse.\n",
        "    BD_matrix = np.zeros(matrix.shape)\n",
        "    ## create new vector which will be the new b vector with the bidiagonal matrix above\n",
        "    BD_vector = np.zeros(len(vector))\n",
        "\n",
        "    # set first row - divide row by value in [0, 0]\n",
        "    b1 = matrix[0, 0]\n",
        "    BD_matrix[0, 1] = matrix[0, 1]/b1\n",
        "    BD_vector[0] = vector[0]/b1\n",
        "    BD_matrix[0, 0] = 1\n",
        "    \n",
        "    # Position [-1, -1] will be 1 and the rest of the row will be 0.\n",
        "    BD_matrix[-1, -1] = 1\n",
        "\n",
        "    # loop for rows 1 - n\n",
        "\n",
        "    for i in range(1, len(vector)-1):\n",
        "        BD_matrix[i, i] = 1\n",
        "        BD_vector[i] = (vector[i] - BD_vector[i-1] * matrix[i, i-1]) / (matrix[i, i] - BD_matrix[i-1, i] * matrix[i, i-1])\n",
        "        BD_matrix[i, i+1] = (matrix[i, i+1]) / ((matrix[i, i] - BD_matrix[i-1, i] * matrix[i, i-1]))\n",
        "        if i == len(vector)-2:\n",
        "            BD_vector[i+1] = (vector[i+1] - BD_vector[i] * matrix[i+1, i]) / (matrix[i+1, i+1] - BD_matrix[i, i+1] * matrix[i+1, i])\n",
        "\n",
        "    ## algorithm to solve system in reverse\n",
        "    \n",
        "    for i in range(len(vector)-2, -1, -1):\n",
        "        BD_vector[i] =  BD_vector[i] - (BD_matrix[i, i+1]*BD_vector[i+1])\n",
        "\n",
        "    return BD_vector\n",
        "        \n"
      ]
    },
    {
      "cell_type": "code",
      "execution_count": 244,
      "metadata": {},
      "outputs": [],
      "source": [
        "# Create matrix which will store option prices\n",
        "#price_matrix = matrix_mesh(Ns, Nt, ds, dt)\n",
        "#print(price_matrix)"
      ]
    },
    {
      "cell_type": "code",
      "execution_count": 245,
      "metadata": {},
      "outputs": [],
      "source": [
        "## Test create matrix function\n",
        "# Square grid will be used\n",
        "\n",
        "#vector = create_b(price_matrix, dt=dt, time_step=0)\n",
        "#print(len(vector))"
      ]
    },
    {
      "cell_type": "code",
      "execution_count": 246,
      "metadata": {},
      "outputs": [],
      "source": [
        "#bi_vector = TDMA(matrix, vector)\n",
        "#np.set_printoptions(suppress=True)\n",
        "#print(np.round(bi_vector, 5))"
      ]
    },
    {
      "cell_type": "markdown",
      "metadata": {},
      "source": [
        "Implementation of finite difference algorithm - Crank-Nicolson method"
      ]
    },
    {
      "cell_type": "code",
      "execution_count": 262,
      "metadata": {},
      "outputs": [],
      "source": [
        "### Initial values \n",
        "\n",
        "Smax = 10       ### Max stock price (right boundary Value)\n",
        "T = 1          ### Time until expiry in years\n",
        "sigma = 0.1     ### Volatility of uderlying stock\n",
        "r = 0.05        ### Risk-Free rate\n",
        "K = 4          ### Strike Price\n",
        "\n",
        "Ns = 1000          ### Number of space steps\n",
        "Nt = 1000          ### Number of time steps\n",
        "\n",
        "dt = T/Nt    ### Time step\n",
        "ds = Smax/Ns ### Price step\n"
      ]
    },
    {
      "cell_type": "code",
      "execution_count": 263,
      "metadata": {},
      "outputs": [],
      "source": [
        "#### finite difference algorithm\n",
        "\n",
        "# Create matrix which will store option prices\n",
        "price_matrix = matrix_mesh(Ns, Nt, ds, dt)    ## This matrix corresponds to the grid for the FDM\n",
        "\n",
        "### Loops for Finite Difference method\n",
        "for j in range(Nt):\n",
        "    A = create_A(price_matrix.shape[0], dt)\n",
        "    b = create_b(price_matrix, dt, j)\n",
        "    solved_prices = TDMA(A, b)\n",
        "    price_matrix[j+1, 1:-1] = solved_prices\n",
        "    \n",
        "\n",
        "\n",
        "\n",
        "\n",
        "\n"
      ]
    },
    {
      "cell_type": "code",
      "execution_count": 259,
      "metadata": {},
      "outputs": [],
      "source": [
        "#print(price_matrix)"
      ]
    },
    {
      "cell_type": "markdown",
      "metadata": {
        "id": "vzydhlbFNGMB"
      },
      "source": [
        "Function for exact Black Scholes."
      ]
    },
    {
      "cell_type": "code",
      "execution_count": 264,
      "metadata": {
        "id": "EBN22Ag48xrz"
      },
      "outputs": [],
      "source": [
        "B = blackScholes_OptionPrice_Matrix(Smax, K, T, sigma, r, Ns, Nt)"
      ]
    },
    {
      "cell_type": "code",
      "execution_count": 265,
      "metadata": {},
      "outputs": [
        {
          "name": "stdout",
          "output_type": "stream",
          "text": [
            "Maximum Error:  0.4245578324792323\n",
            "Average Error:  0.0862671320432307\n"
          ]
        }
      ],
      "source": [
        "Error_Mat = ((price_matrix-B)**2)**(0.5)\n",
        "\n",
        "print(\"Maximum Error: \", np.amax(Error_Mat))\n",
        "print(\"Average Error: \", np.mean(Error_Mat))"
      ]
    },
    {
      "cell_type": "code",
      "execution_count": 44,
      "metadata": {},
      "outputs": [
        {
          "name": "stdout",
          "output_type": "stream",
          "text": [
            "11\n",
            "11\n"
          ]
        }
      ],
      "source": [
        "J = np.shape(V)[0]\n",
        "N = np.shape(V)[1]\n",
        "print(J)\n",
        "print(N)"
      ]
    },
    {
      "cell_type": "code",
      "execution_count": 47,
      "metadata": {},
      "outputs": [
        {
          "name": "stdout",
          "output_type": "stream",
          "text": [
            "11\n",
            "11\n"
          ]
        }
      ],
      "source": [
        "x_d = np.arange(0, N, 1)  ## Need to take shapes from matrix V\n",
        "y_d = np.arange(0, 1, 1/(J))\n",
        "x,y = np.meshgrid(x_d, y_d)\n",
        "print(J)\n",
        "print(N)"
      ]
    },
    {
      "cell_type": "code",
      "execution_count": 48,
      "metadata": {
        "colab": {
          "base_uri": "https://localhost:8080/",
          "height": 575
        },
        "id": "qlnKX6X8J27A",
        "outputId": "d40286eb-59af-4c3a-cbf4-6e15a5cac3a1"
      },
      "outputs": [
        {
          "data": {
            "image/png": "[encoded data removed]",
            "text/plain": [
              "<Figure size 720x720 with 1 Axes>"
            ]
          },
          "metadata": {
            "needs_background": "light"
          },
          "output_type": "display_data"
        }
      ],
      "source": [
        "plt.figure(figsize=(10,10))\n",
        "ax = plt.subplot(111, projection='3d')\n",
        "plt.xlabel(\"Spot Price\")\n",
        "plt.ylabel(\"Time Until Expiry\")\n",
        "ax.set_zlim(0, 8)\n",
        "ax.plot_surface(x,y,V, cmap=cm.coolwarm)\n",
        "plt.show()"
      ]
    },
    {
      "cell_type": "code",
      "execution_count": 49,
      "metadata": {
        "id": "5n7cFQxEJ3Bh"
      },
      "outputs": [],
      "source": [
        "Error_Mat = ((V-B)**2)**(0.5)\n",
        "#print(Error_Mat)"
      ]
    },
    {
      "cell_type": "code",
      "execution_count": 50,
      "metadata": {
        "colab": {
          "base_uri": "https://localhost:8080/"
        },
        "id": "B9n2bu2cKVhJ",
        "outputId": "c6426bf5-9581-412f-9e5d-a68bd418d42f"
      },
      "outputs": [
        {
          "name": "stdout",
          "output_type": "stream",
          "text": [
            "Maximum Error:  0.09321966490393493\n",
            "Average Error:  0.006625922939801236\n"
          ]
        }
      ],
      "source": [
        "print(\"Maximum Error: \", np.amax(Error_Mat))\n",
        "print(\"Average Error: \", np.mean(Error_Mat))"
      ]
    },
    {
      "cell_type": "markdown",
      "metadata": {
        "id": "tAmxzTFnnvnz"
      },
      "source": [
        "FDM using 100x100 mesh."
      ]
    },
    {
      "cell_type": "code",
      "execution_count": 51,
      "metadata": {
        "id": "rTVlmU-Gn0Ko"
      },
      "outputs": [],
      "source": [
        "V100 = finiteDifference_Option_Price(Smax, K, T, sigma, r, Ns=100, Nt = 100)"
      ]
    },
    {
      "cell_type": "code",
      "execution_count": 52,
      "metadata": {
        "id": "KulLFQ3Ln0aM"
      },
      "outputs": [],
      "source": [
        "B100 = blackScholes_OptionPrice_Matrix(Smax, K, T, sigma, r, Ns=100, Nt=100)"
      ]
    },
    {
      "cell_type": "code",
      "execution_count": 53,
      "metadata": {
        "id": "lAWfWDmHn0in"
      },
      "outputs": [],
      "source": [
        "Error_Mat = ((V100-B100)**2)**(0.5)\n",
        "#print(Error_Mat)"
      ]
    },
    {
      "cell_type": "code",
      "execution_count": 54,
      "metadata": {
        "colab": {
          "base_uri": "https://localhost:8080/"
        },
        "id": "OJuQYzpjotVj",
        "outputId": "d7dc18c5-84c0-4801-e1d4-84bc764bffbf"
      },
      "outputs": [
        {
          "name": "stdout",
          "output_type": "stream",
          "text": [
            "[[0.00000000e+00 0.00000000e+00 0.00000000e+00 ... 5.80000000e+00\n",
            "  5.90000000e+00 6.00000000e+00]\n",
            " [0.00000000e+00 0.00000000e+00 0.00000000e+00 ... 5.80200000e+00\n",
            "  5.90200000e+00 6.00199950e+00]\n",
            " [0.00000000e+00 0.00000000e+00 0.00000000e+00 ... 5.80399900e+00\n",
            "  5.90399874e+00 6.00399800e+00]\n",
            " ...\n",
            " [0.00000000e+00 1.77916011e-45 3.55041537e-42 ... 5.99128605e+00\n",
            "  6.09128096e+00 6.19127548e+00]\n",
            " [0.00000000e+00 2.84321723e-45 5.57328956e-42 ... 5.99318998e+00\n",
            "  6.09318487e+00 6.19317937e+00]\n",
            " [0.00000000e+00 4.51349816e-45 8.69308962e-42 ... 5.99509295e+00\n",
            "  6.09508782e+00 6.19508230e+00]]\n"
          ]
        }
      ],
      "source": [
        "print(V100)"
      ]
    },
    {
      "cell_type": "code",
      "execution_count": 55,
      "metadata": {
        "colab": {
          "base_uri": "https://localhost:8080/"
        },
        "id": "JsScjoySo43s",
        "outputId": "838b2281-b864-482e-f5f7-0f36fff669f2"
      },
      "outputs": [
        {
          "name": "stdout",
          "output_type": "stream",
          "text": [
            "[[0.00000000e+000 0.00000000e+000 0.00000000e+000 ... 5.80000000e+000\n",
            "  5.90000000e+000 6.00000000e+000]\n",
            " [0.00000000e+000 0.00000000e+000 0.00000000e+000 ... 5.80199950e+000\n",
            "  5.90199950e+000 6.00199950e+000]\n",
            " [0.00000000e+000 0.00000000e+000 0.00000000e+000 ... 5.80399800e+000\n",
            "  5.90399800e+000 6.00399800e+000]\n",
            " ...\n",
            " [0.00000000e+000 4.90735608e-299 1.53450931e-197 ... 5.99127548e+000\n",
            "  6.09127548e+000 6.19127548e+000]\n",
            " [0.00000000e+000 5.52812109e-296 1.58739201e-195 ... 5.99317937e+000\n",
            "  6.09317937e+000 6.19317937e+000]\n",
            " [0.00000000e+000 5.41162615e-293 1.49678658e-193 ... 5.99508230e+000\n",
            "  6.09508230e+000 6.19508230e+000]]\n"
          ]
        }
      ],
      "source": [
        "print(B100)"
      ]
    },
    {
      "cell_type": "code",
      "execution_count": 56,
      "metadata": {
        "colab": {
          "base_uri": "https://localhost:8080/"
        },
        "id": "t5_yrgZwn0l7",
        "outputId": "9a4ce86b-d44c-45b4-f7ef-1093befb08e3"
      },
      "outputs": [
        {
          "name": "stdout",
          "output_type": "stream",
          "text": [
            "Maximum Error:  0.007973324083766123\n",
            "Average Error:  0.00010189112774407738\n"
          ]
        }
      ],
      "source": [
        "print(\"Maximum Error: \", np.amax(Error_Mat))\n",
        "print(\"Average Error: \", np.mean(Error_Mat))"
      ]
    },
    {
      "cell_type": "markdown",
      "metadata": {},
      "source": [
        "Code below did not work properly and did not feature in the final report."
      ]
    },
    {
      "cell_type": "markdown",
      "metadata": {},
      "source": [
        "\n",
        "\n",
        "\n",
        "\n",
        "\n"
      ]
    },
    {
      "cell_type": "markdown",
      "metadata": {
        "id": "-tgNRiksMpWP"
      },
      "source": [
        "I will now adjust the alpha values and therefore the ratio of S time steps to T time steps to look at differences in stability and try to find the optimal S/T time step ratio."
      ]
    },
    {
      "cell_type": "markdown",
      "metadata": {
        "id": "b8XBp02kNO1x"
      },
      "source": [
        "I first need a function so I can loop through for different alpha values."
      ]
    },
    {
      "cell_type": "code",
      "execution_count": 436,
      "metadata": {
        "id": "Yc1iP0PvL3_8"
      },
      "outputs": [],
      "source": [
        "from sympy.stats.crv_types import Dagum\n",
        "def alpha_test(da, size): \n",
        "    \n",
        "    ### Create array for storage of error values for each alpha value\n",
        "    alphaError_mat_size = size\n",
        "    alphaError_Vals = np.zeros(alphaError_mat_size)\n",
        "    \n",
        "    ### Loop to cycle through alpha values\n",
        "    for i in range(1, size+1):\n",
        "        ### Alpha value\n",
        "        alpha = i*da\n",
        "        \n",
        "        ### Array storing option values using FDM\n",
        "        V = finiteDifference_Option_Price(Smax, K, T, sigma, r, alpha=alpha)\n",
        "\n",
        "        ### Array of Black Scholes exact values\n",
        "        B = blackScholes_OptionPrice_Matrix(Smax, K, T, sigma, r, alpha=alpha)\n",
        "\n",
        "        ### Error matrix\n",
        "        Error_Mat = ((V-B)**2)**(0.5)\n",
        "\n",
        "        #print(np.mean(Error_Mat))\n",
        "        #print(i)\n",
        "\n",
        "        ### Storing average error values in array\n",
        "        alphaError_Vals[i-1] = np.mean(Error_Mat)\n",
        "\n",
        "    return alphaError_Vals\n",
        "\n"
      ]
    },
    {
      "cell_type": "code",
      "execution_count": 437,
      "metadata": {
        "id": "uo_ye4qvS3kQ"
      },
      "outputs": [],
      "source": [
        "Error_Values = alpha_test(0.01, 100)"
      ]
    },
    {
      "cell_type": "code",
      "execution_count": 438,
      "metadata": {
        "colab": {
          "base_uri": "https://localhost:8080/"
        },
        "id": "ScUH06d_TYxO",
        "outputId": "2657f34d-5703-40d3-d7cc-2bcc512184bf"
      },
      "outputs": [
        {
          "name": "stdout",
          "output_type": "stream",
          "text": [
            "[0.00359138 0.00356028 0.00352408 0.00349559 0.00346251 0.00341049\n",
            " 0.00338594 0.00334191 0.00332288 0.00329411 0.00325484 0.0032041\n",
            " 0.0031405  0.00314714 0.00306437 0.00306711 0.00296127 0.00296018\n",
            " 0.00295904 0.00295812 0.00281427 0.00280927 0.00280421 0.00279923\n",
            " 0.00279448 0.00259487 0.00258623 0.00257738 0.00256843 0.00255945\n",
            " 0.00255051 0.00254168 0.002533   0.00223485 0.00222307 0.00221101\n",
            " 0.00219873 0.00218627 0.00217366 0.00216093 0.00214811 0.00213524\n",
            " 0.00212233 0.00210942 0.00209651 0.00208364 0.00207082 0.00205806\n",
            " 0.00204539 0.00203282 0.00152662 0.00151312 0.00149941 0.0014855\n",
            " 0.00147139 0.00145711 0.00144266 0.00142805 0.0014133  0.00139842\n",
            " 0.00138341 0.0013683  0.00135308 0.00133777 0.00132237 0.0013069\n",
            " 0.00129137 0.00127578 0.00126014 0.00124446 0.00122874 0.00121301\n",
            " 0.00119725 0.00118149 0.00116572 0.00114996 0.00113421 0.00111848\n",
            " 0.00110277 0.00108709 0.00107145 0.00105585 0.00104031 0.00102482\n",
            " 0.00100939 0.00099402 0.00097873 0.00096352 0.00094839 0.00093335\n",
            " 0.00096023 0.00101812 0.00107648 0.00113531 0.00119461 0.00125437\n",
            " 0.0013146  0.0013753  0.00143646 0.00149808]\n"
          ]
        }
      ],
      "source": [
        "print(Error_Values)"
      ]
    },
    {
      "cell_type": "code",
      "execution_count": 439,
      "metadata": {
        "colab": {
          "base_uri": "https://localhost:8080/"
        },
        "id": "_qsWt27ehCuv",
        "outputId": "7d27ec58-1feb-419e-f968-e0ab52f7d9ab"
      },
      "outputs": [
        {
          "name": "stdout",
          "output_type": "stream",
          "text": [
            "Minimum error value:  0.0009333462757784868\n"
          ]
        }
      ],
      "source": [
        "### The minimum error \n",
        "min_error = np.min(Error_Values)\n",
        "print(\"Minimum error value: \", min_error)"
      ]
    },
    {
      "cell_type": "code",
      "execution_count": 440,
      "metadata": {
        "colab": {
          "base_uri": "https://localhost:8080/"
        },
        "id": "A5og8hVrhkLh",
        "outputId": "3cf3a014-b6c0-4302-e4a0-2fd9e37a488f"
      },
      "outputs": [
        {
          "name": "stdout",
          "output_type": "stream",
          "text": [
            "Index for optimal alpha value:  89\n"
          ]
        }
      ],
      "source": [
        "### Index of minimum error so we can establish the corresponding alpha\n",
        "alpha_index = np.where(Error_Values == min_error)\n",
        "print(\"Index for optimal alpha value: \", alpha_index[0][0])\n"
      ]
    },
    {
      "cell_type": "code",
      "execution_count": 452,
      "metadata": {
        "colab": {
          "base_uri": "https://localhost:8080/"
        },
        "id": "Vx2YivGTjaq5",
        "outputId": "2b2cb3b7-b494-45fd-b4c1-a515b26ac01d"
      },
      "outputs": [
        {
          "name": "stdout",
          "output_type": "stream",
          "text": [
            "Optimal Alpha:  0.88\n"
          ]
        }
      ],
      "source": [
        "### Optimal Alpha Value\n",
        "Optimal_alpha = (alpha_index[0][0]-1)*0.01\n",
        "print(\"Optimal Alpha: \", Optimal_alpha)"
      ]
    },
    {
      "cell_type": "markdown",
      "metadata": {
        "id": "0kK9Vn6Ljr27"
      },
      "source": [
        "Now we want to try another FDM with a smaller difference using the alpha we have found."
      ]
    },
    {
      "cell_type": "code",
      "execution_count": 458,
      "metadata": {
        "id": "JT39GqF7j1kf"
      },
      "outputs": [],
      "source": [
        "V1 = finiteDifference_Option_Price(Smax, K, T, sigma, r, ds=1, alpha=Optimal_alpha)"
      ]
    },
    {
      "cell_type": "code",
      "execution_count": 459,
      "metadata": {
        "colab": {
          "base_uri": "https://localhost:8080/"
        },
        "id": "Dn88V6yYlZIQ",
        "outputId": "9b06dbd8-d7db-4141-f7e4-00ba0a9c28c0"
      },
      "outputs": [
        {
          "name": "stdout",
          "output_type": "stream",
          "text": [
            "(2, 11)\n",
            "[[0.         0.         0.         0.         0.         1.\n",
            "  2.         3.         4.         5.         6.        ]\n",
            " [0.         0.         0.         0.         0.2464     1.176\n",
            "  2.176      3.176      4.176      5.176      6.17218417]]\n"
          ]
        }
      ],
      "source": [
        "print(np.shape(V1))\n",
        "print(V1)"
      ]
    },
    {
      "cell_type": "code",
      "execution_count": 461,
      "metadata": {
        "id": "TunsdB-WkErC"
      },
      "outputs": [],
      "source": [
        "B1 = blackScholes_OptionPrice_Matrix(Smax, K, T, sigma, r, ds=1, alpha=Optimal_alpha)"
      ]
    },
    {
      "cell_type": "code",
      "execution_count": 462,
      "metadata": {
        "id": "M_dUndSckNnl"
      },
      "outputs": [],
      "source": [
        "Error_Mat = ((V1-B1)**2)**(0.5)"
      ]
    },
    {
      "cell_type": "code",
      "execution_count": 463,
      "metadata": {
        "colab": {
          "base_uri": "https://localhost:8080/"
        },
        "id": "tHPerKxvlLK8",
        "outputId": "1a805600-aaef-428d-8837-cf899060c54e"
      },
      "outputs": [
        {
          "name": "stdout",
          "output_type": "stream",
          "text": [
            "Maximum Error:  0.0038158298921864287\n",
            "Average Error:  0.0009635186288146312\n"
          ]
        }
      ],
      "source": [
        "print(\"Maximum Error: \", np.amax(Error_Mat))\n",
        "print(\"Average Error: \", np.mean(Error_Mat))"
      ]
    },
    {
      "cell_type": "code",
      "execution_count": null,
      "metadata": {
        "id": "K80iEl5SlO0E"
      },
      "outputs": [],
      "source": []
    }
  ],
  "metadata": {
    "colab": {
      "collapsed_sections": [],
      "name": "BS_PDE_Solver_Explicit.ipynb",
      "provenance": []
    },
    "interpreter": {
      "hash": "aee8b7b246df8f9039afb4144a1f6fd8d2ca17a180786b69acc140d282b71a49"
    },
    "kernelspec": {
      "display_name": "Python 3.10.4 64-bit",
      "language": "python",
      "name": "python3"
    },
    "language_info": {
      "codemirror_mode": {
        "name": "ipython",
        "version": 3
      },
      "file_extension": ".py",
      "mimetype": "text/x-python",
      "name": "python",
      "nbconvert_exporter": "python",
      "pygments_lexer": "ipython3",
      "version": "3.10.4"
    }
  },
  "nbformat": 4,
  "nbformat_minor": 0
}
